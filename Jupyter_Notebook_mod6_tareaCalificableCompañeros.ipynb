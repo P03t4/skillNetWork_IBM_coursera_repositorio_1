{
 "cells": [
  {
   "cell_type": "markdown",
   "metadata": {},
   "source": [
    "<center>\n",
    "    <img src=\"https://cf-courses-data.s3.us.cloud-object-storage.appdomain.cloud/IBMDeveloperSkillsNetwork-DS0105EN-SkillsNetwork/labs/Module2/images/SN_web_lightmode.png\" width=\"300\" alt=\"cognitiveclass.ai logo\">\n",
    "</center>\n"
   ]
  },
  {
   "cell_type": "markdown",
   "metadata": {},
   "source": [
    "#### Add your code below following the instructions given in the course\n"
   ]
  },
  {
   "cell_type": "code",
   "execution_count": null,
   "metadata": {},
   "outputs": [],
   "source": [
    "# Este es el Link a mi trabajo en GitHub\n",
    "\n",
    "https://github.com/P03t4/skillNetWork_IBM_coursera_repositorio_1\n",
    "\n",
    "# pero tengo dudas que la entrega sea asi, buscare otra manera de subir mi trabajo o preguntare a la IA\n"
   ]
  },
  {
   "cell_type": "markdown",
   "metadata": {},
   "source": [
    "# Ejercicio 2 - Cree una celda markdown con el título del cuaderno. (1 pto)\n",
    "# Cuaderno\n",
    "\n"
   ]
  },
  {
   "cell_type": "markdown",
   "metadata": {},
   "source": [
    "# Ejercicio 3 - Cree una celda markdown para una introducción. (1 pto)\n",
    "# introduccion\n",
    "Print(\"hola, ¡esta es la introducción!, ¿comenzamos?\")\n"
   ]
  },
  {
   "cell_type": "markdown",
   "metadata": {},
   "source": [
    "# Ejercicio 4 - Cree una celda markdown para enumerar los lenguajes de la ciencia de datos. (3 ptos)\n",
    "\n",
    "lista = ['a', 'b', 'c', 'd', 'e']\n",
    "for indice, valor in enumerate(lista):\n",
    "print(indice, valor)\n",
    "# Salida:\n",
    "# 0 a\n",
    "# 1 b\n",
    "# 2 c\n",
    "# 3 d\n",
    "# 4 e\n",
    "Los lenguajes de programación más utilizados en la ciencia de datos incluyen:\n",
    "\n",
    "1- Python: Considerado el lenguaje por excelencia, es ampliamente utilizado para análisis de datos, machine learning y visualización. \n",
    "\n",
    "2- R: Ideal para análisis estadístico y visualización de datos, es fundamental para quienes trabajan con estadísticas. \n",
    "\n",
    "3- SQL: Es esencial para interactuar con bases de datos y manipular grandes volúmenes de datos. \n",
    "\n",
    "4- Scala: Popular en el análisis de big data, especialmente en combinación con Spark. \n",
    "\n",
    "5- Julia: Gana popularidad por su capacidad para manejar cálculos complejos y su eficiencia en análisis numérico. \n",
    "\n",
    "\n",
    "Estos lenguajes ofrecen diversas ventajas y son fundamentales para el trabajo en ciencia de datos.\")"
   ]
  },
  {
   "cell_type": "markdown",
   "metadata": {},
   "source": [
    "# Ejercicio 5 - Cree una celda markdown para listar bibliotecas de ciencia de datos. (3 ptos)\n",
    "\n",
    "Aquí hay una enumeración de bibliotecas importantes para la ciencia de datos en Python:\n",
    "\n",
    "NumPy: Para cálculos numéricos y manipulación de matrices multidimensionales. \n",
    "\n",
    "Pandas: Para la manipulación y análisis de datos estructurados. \n",
    "\n",
    "SciPy: Para álgebra lineal y algoritmos numéricos. \n",
    "\n",
    "Matplotlib: Para la visualización de datos. \n",
    "\n",
    "Scikit-learn: Para el aprendizaje automático y la minería de datos. \n",
    "\n",
    "Estas bibliotecas son fundamentales para realizar tareas complejas en ciencia de datos, desde el procesamiento de datos hasta la visualización y modelado de datos."
   ]
  },
  {
   "cell_type": "markdown",
   "metadata": {},
   "source": [
    "# Ejercicio 6 - Cree una celda markdown con una tabla de herramientas de Ciencia de Datos. (3 ptos)\n",
    "\n",
    "Aquí hay una lista de herramientas esenciales para la ciencia de datos:\n",
    "\n",
    "Python: Lenguaje de programación popular para análisis de datos, con bibliotecas como Pandas y NumPy. \n",
    "\n",
    "R: Lenguaje especializado en análisis estadístico y visualización, ideal para estadísticas y bioestadísticas. \n",
    "\n",
    "TensorFlow: Biblioteca de aprendizaje automático de código abierto de Google, ampliamente utilizada para crear modelos de aprendizaje automático. \n",
    "\n",
    "PyTorch: Marco de aprendizaje profundo que ofrece gráficos dinámicos y facilidad de depuración. \n",
    "\n",
    "Tableau: Herramienta de visualización de datos que permite crear paneles e informes interactivos. \n",
    "\n",
    "Power BI: Herramienta de análisis empresarial de Microsoft que permite crear visualizaciones interactivas. \n",
    "\n",
    "Apache Spark: Sistema informático rápido y distribuido para procesamiento de big data y aprendizaje automático. \n",
    "\n",
    "\n",
    "Estas herramientas son fundamentales para el análisis, visualización y modelado de datos en el campo de la ciencia de datos."
   ]
  },
  {
   "cell_type": "markdown",
   "metadata": {},
   "source": [
    "# Ejercicio 7 - Cree una celda markdown introduciendo ejemplos de expresiones aritméticas. (1 pto)\n",
    "\n",
    "# Suma\n",
    "resultado_suma = 10 + 5  # Resultado: 15\n",
    "\n",
    "# Resta\n",
    "resultado_resta = 20 - 7  # Resultado: 13\n",
    "\n",
    "# Multiplicación\n",
    "resultado_multiplicacion = 4 * 3  # Resultado: 12\n",
    "\n",
    "# División\n",
    "resultado_division = 15 / 3  # Resultado: 5.0\n",
    "\n",
    "# División entera\n",
    "resultado_division_entera = 17 // 3  # Resultado: 5\n",
    "\n",
    "# Módulo (resto de la división)\n",
    "resultado_modulo = 17 % 3  # Resultado: 2\n",
    "\n",
    "# Potencia\n",
    "resultado_potencia = 2 ** 3  # Resultado: 8\n"
   ]
  },
  {
   "cell_type": "code",
   "execution_count": null,
   "metadata": {},
   "outputs": [],
   "source": [
    "# Ejercicio 8 - Cree una celda de códigopara multiplicar y sumar números. (2 ptos)\n",
    "\n",
    "Print 2*2\n",
    "\n",
    "# Suma\n",
    "a = 10\n",
    "b = 5\n",
    "suma = a + b\n",
    "print(f\"La suma de {a} y {b} es: {suma}\")\n",
    "\n",
    "# Resta\n",
    "resta = a - b\n",
    "print(f\"La resta de {a} y {b} es: {resta}\")\n",
    "\n",
    "# Multiplicación\n",
    "multiplicacion = a * b\n",
    "print(f\"La multiplicación de {a} y {b} es: {multiplicacion}\")\n",
    "\n",
    "# División\n",
    "division = a / b\n",
    "print(f\"La división de {a} entre {b} es: {division}\")\n",
    "\n",
    "\n"
   ]
  },
  {
   "cell_type": "code",
   "execution_count": null,
   "metadata": {},
   "outputs": [],
   "source": [
    "# Ejercicio 9 - Cree una celda de código para convertir minutos en horas. (2 ptos)\n",
    "\n",
    "# Conversión de minutos a horas\n",
    "def convertir_minutos_a_horas(minutos):\n",
    "    horas = minutos / 60\n",
    "    return horas\n",
    "\n",
    "# Ejemplo de uso\n",
    "minutos = int(input(\"Introduce la cantidad de minutos: \"))\n",
    "horas = convertir_minutos_a_horas(minutos)\n",
    "print(f\"{minutos} minutos equivalen a {horas:.2f} horas.\")\n"
   ]
  },
  {
   "cell_type": "code",
   "execution_count": null,
   "metadata": {},
   "outputs": [],
   "source": [
    "# Ejercicio 10 -Inserte una celda de código para listar Objetivos. (3 pts)\n",
    "\n",
    "# ¿Qué hace este código?\n",
    "# Agregar objetivos: Permite al usuario añadir nuevos objetivos a la lista.\n",
    "# Mostrar objetivos: Muestra todos los objetivos almacenados.\n",
    "# Eliminar objetivos: Elimina un objetivo seleccionado por el usuario.\n",
    "# Salir: Finaliza el programa.\n",
    "\n",
    "# Lista para almacenar los objetivos\n",
    "objetivos = []\n",
    "\n",
    "# Función para mostrar el menú\n",
    "def mostrar_menu():\n",
    "    print(\"\\n** Menú de Objetivos **\")\n",
    "    print(\"1. Agregar un objetivo\")\n",
    "    print(\"2. Mostrar objetivos\")\n",
    "    print(\"3. Eliminar un objetivo\")\n",
    "    print(\"4. Salir\")\n",
    "\n",
    "# Función principal\n",
    "def gestionar_objetivos():\n",
    "    while True:\n",
    "        mostrar_menu()\n",
    "        opcion = input(\"Selecciona una opción (1-4): \")\n",
    "\n",
    "        if opcion == \"1\":\n",
    "            objetivo = input(\"Escribe el nuevo objetivo: \")\n",
    "            objetivos.append(objetivo)\n",
    "            print(f\"✅ Objetivo '{objetivo}' agregado.\")\n",
    "        elif opcion == \"2\":\n",
    "            if objetivos:\n",
    "                print(\"\\n📋 Lista de Objetivos:\")\n",
    "                for i, obj in enumerate(objetivos, 1):\n",
    "                    print(f\"{i}. {obj}\")\n",
    "            else:\n",
    "                print(\"⚠️ No hay objetivos en la lista.\")\n",
    "        elif opcion == \"3\":\n",
    "            if objetivos:\n",
    "                print(\"\\n📋 Lista de Objetivos:\")\n",
    "                for i, obj in enumerate(objetivos, 1):\n",
    "                    print(f\"{i}. {obj}\")\n",
    "                try:\n",
    "                    indice = int(input(\"Selecciona el número del objetivo a eliminar: \"))\n",
    "                    eliminado = objetivos.pop(indice - 1)\n",
    "                    print(f\"❌ Objetivo '{eliminado}' eliminado.\")\n",
    "                except (ValueError, IndexError):\n",
    "                    print(\"⚠️ Selección inválida.\")\n",
    "            else:\n",
    "                print(\"⚠️ No hay objetivos para eliminar.\")\n",
    "        elif opcion == \"4\":\n",
    "            print(\"👋 ¡Hasta luego!\")\n",
    "            break\n",
    "        else:\n",
    "            print(\"⚠️ Opción no válida. Intenta de nuevo.\")\n",
    "\n",
    "# Ejecutar el programa\n",
    "gestionar_objetivos()\n"
   ]
  },
  {
   "cell_type": "markdown",
   "metadata": {},
   "source": [
    "# Ejercicio 11 - Cree una celda markdown para indicar el nombre del Autor. (2 ptos)\n",
    "\n",
    "Autor: David Paulo Carrera Cortez de Maía"
   ]
  },
  {
   "cell_type": "markdown",
   "metadata": {},
   "source": [
    "# Ejercicio 12 - Comparta su cuaderno a través de GitHub (3 pts)\n",
    "\n"
   ]
  }
 ],
 "metadata": {
  "kernelspec": {
   "display_name": "Python 3 (ipykernel)",
   "language": "python",
   "name": "python3"
  },
  "language_info": {
   "codemirror_mode": {
    "name": "ipython",
    "version": 3
   },
   "file_extension": ".py",
   "mimetype": "text/x-python",
   "name": "python",
   "nbconvert_exporter": "python",
   "pygments_lexer": "ipython3",
   "version": "3.12.8"
  }
 },
 "nbformat": 4,
 "nbformat_minor": 4
}
